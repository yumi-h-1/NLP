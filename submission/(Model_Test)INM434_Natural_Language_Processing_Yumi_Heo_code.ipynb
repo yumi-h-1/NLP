{
  "cells": [
    {
      "cell_type": "markdown",
      "metadata": {
        "id": "qdHyj7oyWmzX"
      },
      "source": [
        "**INM434 Natural Language Processing**\n",
        "<br>\n",
        "**MSc Data Science | Yumi Heo | 230003122**"
      ]
    },
    {
      "cell_type": "markdown",
      "metadata": {
        "id": "gnwlNXdkXqik"
      },
      "source": [
        "Google Colab Folder Link: https://drive.google.com/drive/folders/1Yn99YR6d5iJ79NYjdZwLLUTEPmucnNqH?usp=sharing\n",
        "\n",
        "Model Training Code Google Colab Link:https://colab.research.google.com/drive/1nTohqQt6vPr6GIj6mX9jmtQiaoiIGg07?usp=sharing\n",
        "\n",
        "Model Test Code Google Colab Link: https://colab.research.google.com/drive/1OgBrPqldusG9K2o68J3SBCF-pTexFih0?usp=sharing"
      ]
    },
    {
      "cell_type": "code",
      "source": [
        "# Mount the drive to load files and models\n",
        "from google.colab import drive\n",
        "drive.mount('/content/drive')"
      ],
      "metadata": {
        "colab": {
          "base_uri": "https://localhost:8080/"
        },
        "id": "U_e-pQDpGiDW",
        "outputId": "9731ce55-1643-4218-c943-75d573ba6d4d"
      },
      "execution_count": null,
      "outputs": [
        {
          "output_type": "stream",
          "name": "stdout",
          "text": [
            "Drive already mounted at /content/drive; to attempt to forcibly remount, call drive.mount(\"/content/drive\", force_remount=True).\n"
          ]
        }
      ]
    },
    {
      "cell_type": "markdown",
      "source": [
        "# TEST"
      ],
      "metadata": {
        "id": "CCUPtuEI6EHT"
      }
    },
    {
      "cell_type": "markdown",
      "source": [
        "## DistilBERT (ver. trained with preprocessed training set)"
      ],
      "metadata": {
        "id": "05cZalrbYq5I"
      }
    },
    {
      "cell_type": "code",
      "source": [
        "# Import libraries for test\n",
        "import pandas as pd\n",
        "import torch\n",
        "import torch.nn as nn\n",
        "from torch.utils.data import Dataset, DataLoader"
      ],
      "metadata": {
        "id": "diPIFcHVrSL5"
      },
      "execution_count": null,
      "outputs": []
    },
    {
      "cell_type": "code",
      "source": [
        "# Specify the testset file path\n",
        "test_file_path = \"/content/drive/MyDrive/1. NLP CW/DistilBERT/test set/testset.csv\"\n",
        "\n",
        "# Load the test set\n",
        "test_df = pd.read_csv(test_file_path)\n",
        "\n",
        "# Print the test dataframe\n",
        "print(test_df)"
      ],
      "metadata": {
        "colab": {
          "base_uri": "https://localhost:8080/"
        },
        "id": "Zpb1LaJal6xi",
        "outputId": "79b40bf5-4068-47d3-c354-118279618096"
      },
      "execution_count": null,
      "outputs": [
        {
          "output_type": "stream",
          "name": "stdout",
          "text": [
            "                                          text  label\n",
            "0                                  locate card     11\n",
            "1     still received new card ordered week ago     11\n",
            "2             ordered card arrived help please     11\n",
            "3                         way know card arrive     11\n",
            "4                             card arrived yet     11\n",
            "...                                        ...    ...\n",
            "3075                      im uk still get card     24\n",
            "3076                    many countries support     24\n",
            "3077                        countries business     24\n",
            "3078                         countries operate     24\n",
            "3079                   card mailed used europe     24\n",
            "\n",
            "[3080 rows x 2 columns]\n"
          ]
        }
      ]
    },
    {
      "cell_type": "code",
      "source": [
        "# Import the library to change the test set to Hugging Face Dataset\n",
        "from datasets import Dataset\n",
        "\n",
        "# Convert the dataframe to a Hugging Face Dataset\n",
        "testset = Dataset.from_dict(test_df)"
      ],
      "metadata": {
        "id": "1CkKiGZQpy1e"
      },
      "execution_count": null,
      "outputs": []
    },
    {
      "cell_type": "code",
      "source": [
        "# Check the inside of testset\n",
        "testset"
      ],
      "metadata": {
        "colab": {
          "base_uri": "https://localhost:8080/"
        },
        "id": "IH8r21DAqNW8",
        "outputId": "ebb74936-9596-4e03-80d3-cd6708094a89"
      },
      "execution_count": null,
      "outputs": [
        {
          "output_type": "execute_result",
          "data": {
            "text/plain": [
              "Dataset({\n",
              "    features: ['text', 'label'],\n",
              "    num_rows: 3080\n",
              "})"
            ]
          },
          "metadata": {},
          "execution_count": 8
        }
      ]
    },
    {
      "cell_type": "code",
      "source": [
        "# This code is derived from lab tutorial 8 and the training code notebook\n",
        "# Import libraries to tokenize\n",
        "from transformers import DistilBertTokenizer\n",
        "\n",
        "# Tokenization\n",
        "tokenizer = DistilBertTokenizer.from_pretrained(\"distilbert-base-uncased\")"
      ],
      "metadata": {
        "colab": {
          "base_uri": "https://localhost:8080/"
        },
        "id": "8fn4blwvouHX",
        "outputId": "8017ebf0-845d-46af-9917-24259d042ea9"
      },
      "execution_count": null,
      "outputs": [
        {
          "output_type": "stream",
          "name": "stderr",
          "text": [
            "/usr/local/lib/python3.10/dist-packages/huggingface_hub/file_download.py:1132: FutureWarning: `resume_download` is deprecated and will be removed in version 1.0.0. Downloads always resume when possible. If you want to force a new download, use `force_download=True`.\n",
            "  warnings.warn(\n",
            "/usr/local/lib/python3.10/dist-packages/huggingface_hub/utils/_token.py:89: UserWarning: \n",
            "The secret `HF_TOKEN` does not exist in your Colab secrets.\n",
            "To authenticate with the Hugging Face Hub, create a token in your settings tab (https://huggingface.co/settings/tokens), set it as secret in your Google Colab and restart your session.\n",
            "You will be able to reuse this secret in all of your notebooks.\n",
            "Please note that authentication is recommended but still optional to access public models or datasets.\n",
            "  warnings.warn(\n"
          ]
        }
      ]
    },
    {
      "cell_type": "code",
      "source": [
        "# This code is derived from lab tutorial 8 and the training code notebook\n",
        "# Tokenize the test data\n",
        "def tokenize(batch):\n",
        "    return tokenizer(batch['text'], padding='max_length', truncation=True, max_length=29) # Define the maximum length as 29\n",
        "\n",
        "test_set = testset.map(tokenize, batched=True)"
      ],
      "metadata": {
        "colab": {
          "base_uri": "https://localhost:8080/",
          "height": 49,
          "referenced_widgets": [
            "b5e4649fb69f4660becf7b92430b6901",
            "ab2d698ccf8c4bc290ed21eff1a37059",
            "7ca106979ed244a2baef1b3bb5324753",
            "4a6a6802404a4cc4b67cf7b813701c57",
            "808fb3e7f59e46e5a1954acc0647215d",
            "0280b80484414b83a58b9cd840533f2a",
            "84798ef186f5459085d0aa20a5af479d",
            "750d786a41c240e2b974216deb65e0c4",
            "f9c02656297f4182a58c8a390eff2b29",
            "823e07b781b74bec8e3ea709bf9828ed",
            "42fea52a3819460cb61ac62918e99acd"
          ]
        },
        "id": "7Yf0EQ6DppMc",
        "outputId": "9f231643-38b9-4b8a-959b-40e570bee287"
      },
      "execution_count": null,
      "outputs": [
        {
          "output_type": "display_data",
          "data": {
            "text/plain": [
              "Map:   0%|          | 0/3080 [00:00<?, ? examples/s]"
            ],
            "application/vnd.jupyter.widget-view+json": {
              "version_major": 2,
              "version_minor": 0,
              "model_id": "b5e4649fb69f4660becf7b92430b6901"
            }
          },
          "metadata": {}
        }
      ]
    },
    {
      "cell_type": "code",
      "source": [
        "# Set the data format\n",
        "test_set.set_format('pt', columns=['input_ids', 'attention_mask', 'label'])"
      ],
      "metadata": {
        "id": "e0TXdZ-srKPT"
      },
      "execution_count": null,
      "outputs": []
    },
    {
      "cell_type": "code",
      "source": [
        "# Set up the data loader\n",
        "test_loader = torch.utils.data.DataLoader(test_set, batch_size=32, shuffle=False)"
      ],
      "metadata": {
        "id": "jT9ybN5vrOrA"
      },
      "execution_count": null,
      "outputs": []
    },
    {
      "cell_type": "code",
      "source": [
        "# Define the folder path to load the model's state dictionary\n",
        "folder_path = '/content/drive/MyDrive/1. NLP CW/DistilBERT/'\n",
        "\n",
        "# Define the dictionary file path\n",
        "model_save_path = folder_path + 'distilBERT_model.pth'"
      ],
      "metadata": {
        "id": "w0FWq2NorawZ"
      },
      "execution_count": null,
      "outputs": []
    },
    {
      "cell_type": "code",
      "source": [
        "# This code is derived from lab tutorial 8 and the training code notebook\n",
        "# Define the model architecture to load the model\n",
        "class DistilBERT(nn.Module):\n",
        "    def __init__(self, model):\n",
        "        super(DistilBERT, self).__init__()\n",
        "        self.model = model\n",
        "        self.linear = nn.Linear(768, 77) # 77 classes\n",
        "\n",
        "    def forward(self, input_ids, attention_mask):\n",
        "        outputs = self.model(input_ids=input_ids, attention_mask=attention_mask)\n",
        "        last_hidden_state = outputs.last_hidden_state[:, 0, :]\n",
        "        logits = self.linear(last_hidden_state)\n",
        "        return logits"
      ],
      "metadata": {
        "id": "UG50dleLvbPy"
      },
      "execution_count": null,
      "outputs": []
    },
    {
      "cell_type": "code",
      "source": [
        "# Load the best model to test\n",
        "test_model = torch.load('/content/drive/MyDrive/1. NLP CW/DistilBERT/processed_distilbert.bin', map_location=torch.device('cpu')) # Make sure to run in CPU\n",
        "# Match the state dictionary to the loaded model\n",
        "state_dict = torch.load(model_save_path, map_location=torch.device('cpu')) # Make sure to run in CPU\n",
        "test_model.load_state_dict(state_dict)"
      ],
      "metadata": {
        "colab": {
          "base_uri": "https://localhost:8080/"
        },
        "id": "EwugG9Rsrat7",
        "outputId": "591cee3a-facf-4f21-e2b6-3f0c970432f0"
      },
      "execution_count": null,
      "outputs": [
        {
          "output_type": "execute_result",
          "data": {
            "text/plain": [
              "<All keys matched successfully>"
            ]
          },
          "metadata": {},
          "execution_count": 15
        }
      ]
    },
    {
      "cell_type": "code",
      "source": [
        "# Import the library to evaluate the final model\n",
        "from sklearn.metrics import precision_score, recall_score, f1_score\n",
        "\n",
        "# Define the test function\n",
        "def evaluate(model, test_loader):\n",
        "    model.eval()\n",
        "    correct = 0\n",
        "    total = 0\n",
        "    predictions_list = []\n",
        "    labels_list = []\n",
        "    with torch.no_grad():\n",
        "        for batch in test_loader:\n",
        "            input_ids = batch['input_ids']\n",
        "            attention_mask = batch['attention_mask']\n",
        "            labels = batch['label']\n",
        "\n",
        "            outputs = model(input_ids, attention_mask)\n",
        "            predictions = torch.argmax(outputs, dim=1)\n",
        "            correct += (predictions == labels).sum().item()\n",
        "            total += labels.size(0)\n",
        "\n",
        "            predictions_list.extend(predictions.cpu().numpy()) # Make sure it will run in CPU\n",
        "            labels_list.extend(labels.cpu().numpy()) # Make sure it will run in CPU\n",
        "\n",
        "    accuracy = correct / total\n",
        "    precision = precision_score(labels_list, predictions_list, average='weighted')\n",
        "    recall = recall_score(labels_list, predictions_list, average='weighted')\n",
        "    f1 = f1_score(labels_list, predictions_list, average='weighted')\n",
        "\n",
        "    return accuracy, precision, recall, f1"
      ],
      "metadata": {
        "id": "Qkn1R-ZTrzf8"
      },
      "execution_count": null,
      "outputs": []
    },
    {
      "cell_type": "code",
      "source": [
        "# Test the model\n",
        "test_model.eval()\n",
        "\n",
        "# Get the test accuracy\n",
        "test_accuracy, test_precision, test_recall, test_f1 = evaluate(test_model, test_loader)\n",
        "\n",
        "print(f'Test Accuracy: {round((test_accuracy*100), 2)}')\n",
        "print(f'Test Precision: {round((test_precision*100), 2)}')\n",
        "print(f'Test Recall: {round((test_recall*100), 2)}')\n",
        "print(f'Test F1 Score: {round((test_f1*100), 2)}')"
      ],
      "metadata": {
        "colab": {
          "base_uri": "https://localhost:8080/"
        },
        "id": "qZHUSVrDjI9-",
        "outputId": "0272457e-29f8-400c-800e-dabbb713217b"
      },
      "execution_count": null,
      "outputs": [
        {
          "output_type": "stream",
          "name": "stdout",
          "text": [
            "Test Accuracy: 89.55\n",
            "Test Precision: 90.08\n",
            "Test Recall: 89.55\n",
            "Test F1 Score: 89.56\n"
          ]
        }
      ]
    },
    {
      "cell_type": "markdown",
      "source": [
        "# TEST"
      ],
      "metadata": {
        "id": "kB5QGTejTJxs"
      }
    },
    {
      "cell_type": "markdown",
      "source": [
        "## LSTM (ver. tuned with Word2Vec embedding and dropout)"
      ],
      "metadata": {
        "id": "JHTQkoXSwABa"
      }
    },
    {
      "cell_type": "code",
      "source": [
        "# Import libraries for test\n",
        "from tensorflow.keras.models import load_model\n",
        "import numpy as np"
      ],
      "metadata": {
        "id": "HeSWB2RyGDa_"
      },
      "execution_count": null,
      "outputs": []
    },
    {
      "cell_type": "code",
      "source": [
        "# load the LSTM model\n",
        "model = load_model('/content/drive/MyDrive/1. NLP CW/LSTM/dropout_tuned_LSTM_word2vec_model.keras')"
      ],
      "metadata": {
        "id": "j76nDB-0RLP_"
      },
      "execution_count": null,
      "outputs": []
    },
    {
      "cell_type": "code",
      "source": [
        "# Load the test data for the LSTM model\n",
        "X_test_padded = np.load('/content/drive/MyDrive/1. NLP CW/LSTM/test set/X_test_padded.npy')\n",
        "y_test_array = np.load('/content/drive/MyDrive/1. NLP CW/LSTM/test set/y_test_array.npy')"
      ],
      "metadata": {
        "id": "d-DDWxYhSDlZ"
      },
      "execution_count": null,
      "outputs": []
    },
    {
      "cell_type": "code",
      "source": [
        "# Test the model with test dataset\n",
        "loss, accuracy = model.evaluate(X_test_padded, y_test_array)\n",
        "\n",
        "print(\"Test Loss:\", loss)\n",
        "print(\"Test Accuracy:\", round((accuracy*100), 2))"
      ],
      "metadata": {
        "colab": {
          "base_uri": "https://localhost:8080/"
        },
        "id": "x2Z9dGhSRLNZ",
        "outputId": "4b8d744b-09a9-4cf1-b487-b5e7ea25d05b"
      },
      "execution_count": null,
      "outputs": [
        {
          "output_type": "stream",
          "name": "stdout",
          "text": [
            "97/97 [==============================] - 2s 12ms/step - loss: 0.7372 - accuracy: 0.7984\n",
            "Test Loss: 0.7371559143066406\n",
            "Test Accuracy: 79.84\n"
          ]
        }
      ]
    },
    {
      "cell_type": "code",
      "source": [
        "# Import the library to check precision, recall, and F1 score\n",
        "from sklearn.metrics import precision_score, recall_score, f1_score\n",
        "\n",
        "# Check predictions with the test set\n",
        "y_test_prob = model.predict(X_test_padded)\n",
        "\n",
        "# Convert probabilities to class labels\n",
        "y_test_pred = np.argmax(y_test_prob, axis=1)\n",
        "\n",
        "# Calculate precision, recall, and f1 score\n",
        "precision = precision_score(y_test_array, y_test_pred, average='weighted')\n",
        "recall = recall_score(y_test_array, y_test_pred, average='weighted')\n",
        "f1 = f1_score(y_test_array, y_test_pred, average='weighted')\n",
        "\n",
        "print(\"Precision:\", round((precision*100), 2))\n",
        "print(\"Recall:\", round((recall*100), 2))\n",
        "print(\"F1 Score:\", round((f1*100), 2))"
      ],
      "metadata": {
        "id": "d9Zbscr7RLIE",
        "colab": {
          "base_uri": "https://localhost:8080/"
        },
        "outputId": "857d3f1b-16e5-47f0-fe3d-aa8125d5d01a"
      },
      "execution_count": null,
      "outputs": [
        {
          "output_type": "stream",
          "name": "stdout",
          "text": [
            "97/97 [==============================] - 2s 12ms/step\n",
            "Precision: 81.46\n",
            "Recall: 79.84\n",
            "F1 Score: 79.54\n"
          ]
        }
      ]
    }
  ],
  "metadata": {
    "colab": {
      "provenance": []
    },
    "kernelspec": {
      "display_name": "Python 3",
      "name": "python3"
    },
    "language_info": {
      "name": "python"
    },
    "widgets": {
      "application/vnd.jupyter.widget-state+json": {
        "b5e4649fb69f4660becf7b92430b6901": {
          "model_module": "@jupyter-widgets/controls",
          "model_name": "HBoxModel",
          "model_module_version": "1.5.0",
          "state": {
            "_dom_classes": [],
            "_model_module": "@jupyter-widgets/controls",
            "_model_module_version": "1.5.0",
            "_model_name": "HBoxModel",
            "_view_count": null,
            "_view_module": "@jupyter-widgets/controls",
            "_view_module_version": "1.5.0",
            "_view_name": "HBoxView",
            "box_style": "",
            "children": [
              "IPY_MODEL_ab2d698ccf8c4bc290ed21eff1a37059",
              "IPY_MODEL_7ca106979ed244a2baef1b3bb5324753",
              "IPY_MODEL_4a6a6802404a4cc4b67cf7b813701c57"
            ],
            "layout": "IPY_MODEL_808fb3e7f59e46e5a1954acc0647215d"
          }
        },
        "ab2d698ccf8c4bc290ed21eff1a37059": {
          "model_module": "@jupyter-widgets/controls",
          "model_name": "HTMLModel",
          "model_module_version": "1.5.0",
          "state": {
            "_dom_classes": [],
            "_model_module": "@jupyter-widgets/controls",
            "_model_module_version": "1.5.0",
            "_model_name": "HTMLModel",
            "_view_count": null,
            "_view_module": "@jupyter-widgets/controls",
            "_view_module_version": "1.5.0",
            "_view_name": "HTMLView",
            "description": "",
            "description_tooltip": null,
            "layout": "IPY_MODEL_0280b80484414b83a58b9cd840533f2a",
            "placeholder": "​",
            "style": "IPY_MODEL_84798ef186f5459085d0aa20a5af479d",
            "value": "Map: 100%"
          }
        },
        "7ca106979ed244a2baef1b3bb5324753": {
          "model_module": "@jupyter-widgets/controls",
          "model_name": "FloatProgressModel",
          "model_module_version": "1.5.0",
          "state": {
            "_dom_classes": [],
            "_model_module": "@jupyter-widgets/controls",
            "_model_module_version": "1.5.0",
            "_model_name": "FloatProgressModel",
            "_view_count": null,
            "_view_module": "@jupyter-widgets/controls",
            "_view_module_version": "1.5.0",
            "_view_name": "ProgressView",
            "bar_style": "success",
            "description": "",
            "description_tooltip": null,
            "layout": "IPY_MODEL_750d786a41c240e2b974216deb65e0c4",
            "max": 3080,
            "min": 0,
            "orientation": "horizontal",
            "style": "IPY_MODEL_f9c02656297f4182a58c8a390eff2b29",
            "value": 3080
          }
        },
        "4a6a6802404a4cc4b67cf7b813701c57": {
          "model_module": "@jupyter-widgets/controls",
          "model_name": "HTMLModel",
          "model_module_version": "1.5.0",
          "state": {
            "_dom_classes": [],
            "_model_module": "@jupyter-widgets/controls",
            "_model_module_version": "1.5.0",
            "_model_name": "HTMLModel",
            "_view_count": null,
            "_view_module": "@jupyter-widgets/controls",
            "_view_module_version": "1.5.0",
            "_view_name": "HTMLView",
            "description": "",
            "description_tooltip": null,
            "layout": "IPY_MODEL_823e07b781b74bec8e3ea709bf9828ed",
            "placeholder": "​",
            "style": "IPY_MODEL_42fea52a3819460cb61ac62918e99acd",
            "value": " 3080/3080 [00:01&lt;00:00, 2304.75 examples/s]"
          }
        },
        "808fb3e7f59e46e5a1954acc0647215d": {
          "model_module": "@jupyter-widgets/base",
          "model_name": "LayoutModel",
          "model_module_version": "1.2.0",
          "state": {
            "_model_module": "@jupyter-widgets/base",
            "_model_module_version": "1.2.0",
            "_model_name": "LayoutModel",
            "_view_count": null,
            "_view_module": "@jupyter-widgets/base",
            "_view_module_version": "1.2.0",
            "_view_name": "LayoutView",
            "align_content": null,
            "align_items": null,
            "align_self": null,
            "border": null,
            "bottom": null,
            "display": null,
            "flex": null,
            "flex_flow": null,
            "grid_area": null,
            "grid_auto_columns": null,
            "grid_auto_flow": null,
            "grid_auto_rows": null,
            "grid_column": null,
            "grid_gap": null,
            "grid_row": null,
            "grid_template_areas": null,
            "grid_template_columns": null,
            "grid_template_rows": null,
            "height": null,
            "justify_content": null,
            "justify_items": null,
            "left": null,
            "margin": null,
            "max_height": null,
            "max_width": null,
            "min_height": null,
            "min_width": null,
            "object_fit": null,
            "object_position": null,
            "order": null,
            "overflow": null,
            "overflow_x": null,
            "overflow_y": null,
            "padding": null,
            "right": null,
            "top": null,
            "visibility": null,
            "width": null
          }
        },
        "0280b80484414b83a58b9cd840533f2a": {
          "model_module": "@jupyter-widgets/base",
          "model_name": "LayoutModel",
          "model_module_version": "1.2.0",
          "state": {
            "_model_module": "@jupyter-widgets/base",
            "_model_module_version": "1.2.0",
            "_model_name": "LayoutModel",
            "_view_count": null,
            "_view_module": "@jupyter-widgets/base",
            "_view_module_version": "1.2.0",
            "_view_name": "LayoutView",
            "align_content": null,
            "align_items": null,
            "align_self": null,
            "border": null,
            "bottom": null,
            "display": null,
            "flex": null,
            "flex_flow": null,
            "grid_area": null,
            "grid_auto_columns": null,
            "grid_auto_flow": null,
            "grid_auto_rows": null,
            "grid_column": null,
            "grid_gap": null,
            "grid_row": null,
            "grid_template_areas": null,
            "grid_template_columns": null,
            "grid_template_rows": null,
            "height": null,
            "justify_content": null,
            "justify_items": null,
            "left": null,
            "margin": null,
            "max_height": null,
            "max_width": null,
            "min_height": null,
            "min_width": null,
            "object_fit": null,
            "object_position": null,
            "order": null,
            "overflow": null,
            "overflow_x": null,
            "overflow_y": null,
            "padding": null,
            "right": null,
            "top": null,
            "visibility": null,
            "width": null
          }
        },
        "84798ef186f5459085d0aa20a5af479d": {
          "model_module": "@jupyter-widgets/controls",
          "model_name": "DescriptionStyleModel",
          "model_module_version": "1.5.0",
          "state": {
            "_model_module": "@jupyter-widgets/controls",
            "_model_module_version": "1.5.0",
            "_model_name": "DescriptionStyleModel",
            "_view_count": null,
            "_view_module": "@jupyter-widgets/base",
            "_view_module_version": "1.2.0",
            "_view_name": "StyleView",
            "description_width": ""
          }
        },
        "750d786a41c240e2b974216deb65e0c4": {
          "model_module": "@jupyter-widgets/base",
          "model_name": "LayoutModel",
          "model_module_version": "1.2.0",
          "state": {
            "_model_module": "@jupyter-widgets/base",
            "_model_module_version": "1.2.0",
            "_model_name": "LayoutModel",
            "_view_count": null,
            "_view_module": "@jupyter-widgets/base",
            "_view_module_version": "1.2.0",
            "_view_name": "LayoutView",
            "align_content": null,
            "align_items": null,
            "align_self": null,
            "border": null,
            "bottom": null,
            "display": null,
            "flex": null,
            "flex_flow": null,
            "grid_area": null,
            "grid_auto_columns": null,
            "grid_auto_flow": null,
            "grid_auto_rows": null,
            "grid_column": null,
            "grid_gap": null,
            "grid_row": null,
            "grid_template_areas": null,
            "grid_template_columns": null,
            "grid_template_rows": null,
            "height": null,
            "justify_content": null,
            "justify_items": null,
            "left": null,
            "margin": null,
            "max_height": null,
            "max_width": null,
            "min_height": null,
            "min_width": null,
            "object_fit": null,
            "object_position": null,
            "order": null,
            "overflow": null,
            "overflow_x": null,
            "overflow_y": null,
            "padding": null,
            "right": null,
            "top": null,
            "visibility": null,
            "width": null
          }
        },
        "f9c02656297f4182a58c8a390eff2b29": {
          "model_module": "@jupyter-widgets/controls",
          "model_name": "ProgressStyleModel",
          "model_module_version": "1.5.0",
          "state": {
            "_model_module": "@jupyter-widgets/controls",
            "_model_module_version": "1.5.0",
            "_model_name": "ProgressStyleModel",
            "_view_count": null,
            "_view_module": "@jupyter-widgets/base",
            "_view_module_version": "1.2.0",
            "_view_name": "StyleView",
            "bar_color": null,
            "description_width": ""
          }
        },
        "823e07b781b74bec8e3ea709bf9828ed": {
          "model_module": "@jupyter-widgets/base",
          "model_name": "LayoutModel",
          "model_module_version": "1.2.0",
          "state": {
            "_model_module": "@jupyter-widgets/base",
            "_model_module_version": "1.2.0",
            "_model_name": "LayoutModel",
            "_view_count": null,
            "_view_module": "@jupyter-widgets/base",
            "_view_module_version": "1.2.0",
            "_view_name": "LayoutView",
            "align_content": null,
            "align_items": null,
            "align_self": null,
            "border": null,
            "bottom": null,
            "display": null,
            "flex": null,
            "flex_flow": null,
            "grid_area": null,
            "grid_auto_columns": null,
            "grid_auto_flow": null,
            "grid_auto_rows": null,
            "grid_column": null,
            "grid_gap": null,
            "grid_row": null,
            "grid_template_areas": null,
            "grid_template_columns": null,
            "grid_template_rows": null,
            "height": null,
            "justify_content": null,
            "justify_items": null,
            "left": null,
            "margin": null,
            "max_height": null,
            "max_width": null,
            "min_height": null,
            "min_width": null,
            "object_fit": null,
            "object_position": null,
            "order": null,
            "overflow": null,
            "overflow_x": null,
            "overflow_y": null,
            "padding": null,
            "right": null,
            "top": null,
            "visibility": null,
            "width": null
          }
        },
        "42fea52a3819460cb61ac62918e99acd": {
          "model_module": "@jupyter-widgets/controls",
          "model_name": "DescriptionStyleModel",
          "model_module_version": "1.5.0",
          "state": {
            "_model_module": "@jupyter-widgets/controls",
            "_model_module_version": "1.5.0",
            "_model_name": "DescriptionStyleModel",
            "_view_count": null,
            "_view_module": "@jupyter-widgets/base",
            "_view_module_version": "1.2.0",
            "_view_name": "StyleView",
            "description_width": ""
          }
        }
      }
    }
  },
  "nbformat": 4,
  "nbformat_minor": 0
}